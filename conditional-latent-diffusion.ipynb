{
 "cells": [
  {
   "cell_type": "code",
   "execution_count": null,
   "metadata": {},
   "outputs": [],
   "source": [
    "%%capture\n",
    "%pip install einops pytorch_lightning diffusers==0.12.1 kornia librosa accelerate ipympl"
   ]
  },
  {
   "cell_type": "code",
   "execution_count": null,
   "metadata": {
    "execution": {
     "iopub.execute_input": "2023-04-30T19:25:52.378962Z",
     "iopub.status.busy": "2023-04-30T19:25:52.378546Z",
     "iopub.status.idle": "2023-04-30T19:25:56.201521Z",
     "shell.execute_reply": "2023-04-30T19:25:56.200526Z",
     "shell.execute_reply.started": "2023-04-30T19:25:52.378933Z"
    }
   },
   "outputs": [],
   "source": [
    "import torch\n",
    "import torch.nn.functional as F\n",
    "from torch.utils.data import Dataset\n",
    "import pytorch_lightning as pl\n",
    "\n",
    "import numpy as np\n",
    "import matplotlib as mpl\n",
    "import matplotlib.pyplot as plt\n",
    "\n",
    "from src import *\n",
    "\n",
    "mpl.rcParams['figure.figsize'] = (8, 8)\n",
    "device = torch.device(\"cuda:0\" if torch.cuda.is_available() else \"cpu\")"
   ]
  },
  {
   "attachments": {},
   "cell_type": "markdown",
   "metadata": {},
   "source": [
    "### Creating datasets"
   ]
  },
  {
   "cell_type": "code",
   "execution_count": null,
   "metadata": {
    "execution": {
     "iopub.execute_input": "2023-04-30T19:26:02.198308Z",
     "iopub.status.busy": "2023-04-30T19:26:02.196995Z",
     "iopub.status.idle": "2023-04-30T19:26:04.181587Z",
     "shell.execute_reply": "2023-04-30T19:26:04.180802Z",
     "shell.execute_reply.started": "2023-04-30T19:26:02.198252Z"
    }
   },
   "outputs": [],
   "source": [
    "from dataset import SpectrogramDataset\n",
    "\n",
    "train_ds=SpectrogramDataset(target_dir='datasets/randomMIDI/PianoViolin11025/WAV/train/ins3',\n",
    "                            condition_dir='datasets/randomMIDI/PianoViolin11025/WAV/train/mix',\n",
    "                            return_pair=True,\n",
    "                            out_channels=3\n",
    "                     )\n",
    "\n",
    "\n",
    "valid_ds=SpectrogramDataset(target_dir='datasets/randomMIDI/PianoViolin11025/WAV/val/ins3',\n",
    "                          condition_dir='datasets/randomMIDI/PianoViolin11025/WAV/val/mix',\n",
    "                          return_pair=True,\n",
    "                          out_channels=3\n",
    "                     )\n",
    "\n",
    "test_ds=SpectrogramDataset(target_dir='datasets/randomMIDI/PianoViolin11025/WAV/test/ins3',\n",
    "                           condition_dir='datasets/randomMIDI/PianoViolin11025/WAV/test/mix',\n",
    "                           return_pair=True,\n",
    "                           out_channels=3\n",
    "                     )\n",
    "\n",
    "img1,img2=train_ds[0]\n",
    "\n",
    "plt.subplot(1,2,1)\n",
    "plt.imshow(img1.permute(1,2,0))\n",
    "plt.subplot(1,2,2)\n",
    "plt.imshow(img2.permute(1,2,0))"
   ]
  },
  {
   "attachments": {},
   "cell_type": "markdown",
   "metadata": {},
   "source": [
    "### Testing autoencoder"
   ]
  },
  {
   "cell_type": "code",
   "execution_count": null,
   "metadata": {
    "execution": {
     "iopub.execute_input": "2023-04-30T17:04:05.570123Z",
     "iopub.status.busy": "2023-04-30T17:04:05.569746Z",
     "iopub.status.idle": "2023-04-30T17:04:06.111308Z",
     "shell.execute_reply": "2023-04-30T17:04:06.110354Z",
     "shell.execute_reply.started": "2023-04-30T17:04:05.570094Z"
    }
   },
   "outputs": [],
   "source": [
    "autoencoder = AutoencoderKL.from_pretrained(\"stabilityai/sd-vae-ft-ema\")\n",
    "pl_ae_model = Autoencoder(autoencoder).to(device)"
   ]
  },
  {
   "cell_type": "code",
   "execution_count": null,
   "metadata": {
    "execution": {
     "iopub.execute_input": "2023-04-30T19:26:33.330226Z",
     "iopub.status.busy": "2023-04-30T19:26:33.328872Z",
     "iopub.status.idle": "2023-04-30T19:26:35.143210Z",
     "shell.execute_reply": "2023-04-30T19:26:35.142427Z",
     "shell.execute_reply.started": "2023-04-30T19:26:33.330181Z"
    }
   },
   "outputs": [],
   "source": [
    "img, cond = test_ds[0]\n",
    "phase = test_ds.get_phase(0)\n",
    "\n",
    "plt.subplot(1,3,1)\n",
    "plt.imshow(cond.permute(1,2,0))\n",
    "plt.title('Input')\n",
    "plt.subplot(1,3,2)\n",
    "prod_img = pl_ae_model(cond.unsqueeze(0).to(device))\n",
    "plt.imshow(prod_img[0].detach().cpu().permute(1,2,0))\n",
    "plt.title('AutoEncoder Reconstruction')\n",
    "plt.subplot(1,3,3)\n",
    "prod_img2 = pl_ae_model.decode(pl_ae_model.encode(cond.unsqueeze(0).to(device)))\n",
    "plt.imshow(prod_img2[0].detach().cpu().permute(1,2,0))\n",
    "plt.title('AutoEncoder Reconstruction encode/decode')\n",
    "print(pl_ae_model.encode(cond.unsqueeze(0).to(device)).shape)\n",
    "\n",
    "print(prod_img.shape, prod_img2.shape)\n"
   ]
  },
  {
   "attachments": {},
   "cell_type": "markdown",
   "metadata": {},
   "source": [
    "### Model setup"
   ]
  },
  {
   "cell_type": "code",
   "execution_count": null,
   "metadata": {
    "execution": {
     "iopub.execute_input": "2023-04-30T19:26:48.576977Z",
     "iopub.status.busy": "2023-04-30T19:26:48.575983Z",
     "iopub.status.idle": "2023-04-30T19:26:49.049936Z",
     "shell.execute_reply": "2023-04-30T19:26:49.049128Z",
     "shell.execute_reply.started": "2023-04-30T19:26:48.576937Z"
    }
   },
   "outputs": [],
   "source": [
    "model=LatentDiffusionConditional(test_ds,\n",
    "                                 autoencoder=pl_ae_model,\n",
    "                                 valid_dataset=valid_ds,\n",
    "                                 lr=1e-4,\n",
    "                                 batch_size=8,\n",
    "                                 schedule='linear',\n",
    "                                 warm_up_steps=10000,\n",
    "                                 num_timesteps=1000,\n",
    "                                 loss_fn=torch.nn.functional.l1_loss)"
   ]
  },
  {
   "attachments": {},
   "cell_type": "markdown",
   "metadata": {},
   "source": [
    "### Training"
   ]
  },
  {
   "cell_type": "code",
   "execution_count": null,
   "metadata": {
    "execution": {
     "iopub.execute_input": "2023-04-30T17:05:30.168814Z",
     "iopub.status.busy": "2023-04-30T17:05:30.167955Z",
     "iopub.status.idle": "2023-04-30T17:05:30.190262Z",
     "shell.execute_reply": "2023-04-30T17:05:30.189513Z",
     "shell.execute_reply.started": "2023-04-30T17:05:30.168786Z"
    }
   },
   "outputs": [],
   "source": [
    "trainer = pl.Trainer(\n",
    "    default_root_dir=\"trained_models/latent_diffusion/test\",\n",
    "    max_epochs=3000,\n",
    "    callbacks=[EMA(0.9999)],\n",
    "    accelerator='auto'\n",
    ")"
   ]
  },
  {
   "cell_type": "code",
   "execution_count": null,
   "metadata": {
    "execution": {
     "iopub.execute_input": "2023-04-30T17:05:33.043543Z",
     "iopub.status.busy": "2023-04-30T17:05:33.042913Z",
     "iopub.status.idle": "2023-04-30T18:51:35.745887Z",
     "shell.execute_reply": "2023-04-30T18:51:35.744957Z",
     "shell.execute_reply.started": "2023-04-30T17:05:33.043513Z"
    }
   },
   "outputs": [],
   "source": [
    "trainer.fit(model)"
   ]
  },
  {
   "attachments": {},
   "cell_type": "markdown",
   "metadata": {},
   "source": [
    "### Load checkpoint"
   ]
  },
  {
   "cell_type": "code",
   "execution_count": null,
   "metadata": {
    "execution": {
     "iopub.execute_input": "2023-04-30T10:46:03.735781Z",
     "iopub.status.busy": "2023-04-30T10:46:03.735097Z",
     "iopub.status.idle": "2023-04-30T14:02:30.280965Z",
     "shell.execute_reply": "2023-04-30T14:02:30.261192Z",
     "shell.execute_reply.started": "2023-04-30T10:46:03.735460Z"
    }
   },
   "outputs": [],
   "source": [
    "trainer.fit(model, ckpt_path='trained_models/latent_diffusion/lightning_logs/version_3/checkpoints/epoch=613-step=12000.ckpt')"
   ]
  },
  {
   "cell_type": "code",
   "execution_count": null,
   "metadata": {
    "execution": {
     "iopub.execute_input": "2023-04-29T21:07:53.955220Z",
     "iopub.status.busy": "2023-04-29T21:07:53.954696Z",
     "iopub.status.idle": "2023-04-29T21:07:55.865526Z",
     "shell.execute_reply": "2023-04-29T21:07:55.863913Z",
     "shell.execute_reply.started": "2023-04-29T21:07:53.955172Z"
    }
   },
   "outputs": [],
   "source": [
    "model = LatentDiffusionConditional.load_from_checkpoint('trained_models/latent_diffusion/lightning_logs/version_0/checkpoints/epoch=477-step=7648.ckpt',\n",
    "                                                        train_dataset=train_ds,\n",
    "                                                        autoencoder=pl_ae_model,\n",
    "                                                        valid_dataset=valid_ds,\n",
    "                                                        lr=1e-5,\n",
    "                                                        batch_size=16,\n",
    "                                                        schedule='linear')\n",
    "\n",
    "print(model.lr)"
   ]
  },
  {
   "attachments": {},
   "cell_type": "markdown",
   "metadata": {},
   "source": [
    "### Create sample"
   ]
  },
  {
   "cell_type": "code",
   "execution_count": null,
   "metadata": {
    "execution": {
     "iopub.execute_input": "2023-04-30T18:51:42.182435Z",
     "iopub.status.busy": "2023-04-30T18:51:42.182077Z",
     "iopub.status.idle": "2023-04-30T18:52:02.094263Z",
     "shell.execute_reply": "2023-04-30T18:52:02.093566Z",
     "shell.execute_reply.started": "2023-04-30T18:51:42.182399Z"
    }
   },
   "outputs": [],
   "source": [
    "input,output=test_ds[0]\n",
    "batch_input=torch.stack(4*[input],0)\n",
    "\n",
    "#model.cuda()\n",
    "out=model(batch_input, verbose=True)"
   ]
  },
  {
   "cell_type": "code",
   "execution_count": null,
   "metadata": {
    "execution": {
     "iopub.execute_input": "2023-04-30T18:52:03.521943Z",
     "iopub.status.busy": "2023-04-30T18:52:03.521511Z",
     "iopub.status.idle": "2023-04-30T18:52:03.850366Z",
     "shell.execute_reply": "2023-04-30T18:52:03.849474Z",
     "shell.execute_reply.started": "2023-04-30T18:52:03.521914Z"
    }
   },
   "outputs": [],
   "source": [
    "plt.subplot(1,2+len(out),1)\n",
    "plt.imshow(input.permute(1,2,0))\n",
    "plt.title('Input')\n",
    "plt.axis('off')\n",
    "for idx in range(out.shape[0]):\n",
    "    plt.subplot(1,2+len(out),idx+2)\n",
    "    plt.imshow(out[idx].detach().cpu().permute(1,2,0))\n",
    "    plt.axis('off')\n",
    "plt.subplot(1,2+len(out),2+len(out))\n",
    "plt.imshow(output.permute(1,2,0))\n",
    "plt.title('Ground Truth')\n",
    "plt.axis('off')"
   ]
  },
  {
   "cell_type": "code",
   "execution_count": null,
   "metadata": {},
   "outputs": [],
   "source": [
    "phase = test_ds.get_phase(0)\n",
    "print(phase.shape)\n",
    "print(out[0].shape)\n",
    "name = test_ds.files[0]\n",
    "test_ds.save_audio(out[0], phase, name = name)"
   ]
  }
 ],
 "metadata": {
  "kernelspec": {
   "display_name": "Python 3 (ipykernel)",
   "language": "python",
   "name": "python3"
  },
  "language_info": {
   "codemirror_mode": {
    "name": "ipython",
    "version": 3
   },
   "file_extension": ".py",
   "mimetype": "text/x-python",
   "name": "python",
   "nbconvert_exporter": "python",
   "pygments_lexer": "ipython3",
   "version": "3.9.12"
  },
  "vscode": {
   "interpreter": {
    "hash": "9c51ce0507ee92158ec6cc9f8889932a0a84d6c61c0b9a7e6ae2beb6ccb07ed9"
   }
  }
 },
 "nbformat": 4,
 "nbformat_minor": 4
}
