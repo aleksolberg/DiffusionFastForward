{
 "cells": [
  {
   "cell_type": "code",
   "execution_count": null,
   "metadata": {},
   "outputs": [],
   "source": [
    "%%capture\n",
    "%pip install einops pytorch_lightning diffusers==0.12.1 kornia librosa accelerate ipympl nussl pandas==1.5.2"
   ]
  },
  {
   "cell_type": "code",
   "execution_count": null,
   "metadata": {},
   "outputs": [],
   "source": [
    "import torch\n",
    "import matplotlib.pyplot as plt\n",
    "\n",
    "\n",
    "from src import LatentDiffusionConditional, LatentDiffusion, AutoencoderKL, Autoencoder\n",
    "from dataset import SpectrogramDataset\n",
    "\n",
    "device = torch.device(\"cuda:0\" if torch.cuda.is_available() else \"cpu\")"
   ]
  },
  {
   "attachments": {},
   "cell_type": "markdown",
   "metadata": {},
   "source": [
    "### Dataset"
   ]
  },
  {
   "cell_type": "code",
   "execution_count": null,
   "metadata": {},
   "outputs": [],
   "source": [
    "test_ds=SpectrogramDataset(target_dir='datasets/randomMIDI/PianoViolin11025/WAV/test/ins3',\n",
    "                           condition_dir='datasets/randomMIDI/PianoViolin11025/WAV/test/mix',\n",
    "                           return_pair=True,\n",
    "                           out_channels=3\n",
    "                           )\n",
    "\n",
    "condition, target = test_ds[0]\n",
    "\n",
    "plt.subplot(1,2,1)\n",
    "plt.imshow(condition.permute(1,2,0))\n",
    "plt.subplot(1,2,2)\n",
    "plt.imshow(target.permute(1,2,0))"
   ]
  },
  {
   "attachments": {},
   "cell_type": "markdown",
   "metadata": {},
   "source": [
    "### Model"
   ]
  },
  {
   "cell_type": "code",
   "execution_count": null,
   "metadata": {},
   "outputs": [],
   "source": [
    "autoencoder = AutoencoderKL.from_pretrained(\"stabilityai/sd-vae-ft-ema\")\n",
    "pl_ae_model = Autoencoder(autoencoder).to(device)"
   ]
  },
  {
   "cell_type": "code",
   "execution_count": null,
   "metadata": {},
   "outputs": [],
   "source": [
    "model_path = 'trained_models/mask_latent_diffusion/lightning_logs/version_1/'\n",
    "model = LatentDiffusionConditional.load_from_checkpoint(model_path + 'checkpoints/epoch=1523-step=48768.ckpt', train_dataset = test_ds, autoencoder = pl_ae_model).to(device)\n"
   ]
  },
  {
   "attachments": {},
   "cell_type": "markdown",
   "metadata": {},
   "source": [
    "### Evaluation"
   ]
  },
  {
   "cell_type": "code",
   "execution_count": null,
   "metadata": {},
   "outputs": [],
   "source": [
    "import os\n",
    "import json\n",
    "import glob\n",
    "import numpy as np\n",
    "import nussl\n",
    "import nussl.evaluation as ne\n",
    "\n",
    "\n",
    "outputs = []\n",
    "targets = []\n",
    "\n",
    "for i in range(2):\n",
    "    mix = test_ds[i][0]\n",
    "    out = model(mix.unsqueeze(0), verbose=True).detach().cpu()\n",
    "    out = out[0]\n",
    "    phase = test_ds.get_phase(i)\n",
    "\n",
    "    estimated_source = out * test_ds[i][0]\n",
    "    target_source = test_ds[i][1]\n",
    "\n",
    "    mix = nussl.AudioSignal(audio_data_array=test_ds.to_audio(mix, phase), sample_rate=11025)\n",
    "    estimated_source = nussl.AudioSignal(audio_data_array=test_ds.to_audio(estimated_source, phase), sample_rate=11025)\n",
    "    target_source = nussl.AudioSignal(audio_data_array=test_ds.to_audio(target_source, phase), sample_rate=11025)\n",
    "\n",
    "    target_rest = mix - target_source\n",
    "    estimated_rest = mix - estimated_source\n",
    "\n",
    "    estimates = [estimated_source, estimated_rest]\n",
    "    targets = [target_source, target_rest]\n",
    "\n",
    "    evaluator = ne.BSSEvalScale(targets, estimates, ['ins3', 'rest'])\n",
    "    scores = evaluator.evaluate()\n",
    "\n",
    "    os.makedirs(model_path + 'scores/', exist_ok=True)\n",
    "    output_file = model_path + 'scores/' + test_ds.files[i].replace('wav', 'json')\n",
    "    with open(output_file, 'w') as f:\n",
    "        json.dump(scores, f, indent=4)"
   ]
  },
  {
   "cell_type": "code",
   "execution_count": null,
   "metadata": {},
   "outputs": [],
   "source": [
    "import pandas as pd\n",
    "json_files = glob.glob(str(model_path) + 'scores/*.json')\n",
    "\n",
    "df = ne.aggregate_score_files(json_files, aggregator=np.nanmedian)\n",
    "report_card = ne.report_card(df, report_each_source=True)\n",
    "print(report_card)\n",
    "with open(model_path + 'report_card.json', 'w') as f:\n",
    "    json.dump(report_card, f, indent=4)"
   ]
  },
  {
   "cell_type": "code",
   "execution_count": null,
   "metadata": {},
   "outputs": [],
   "source": []
  }
 ],
 "metadata": {
  "kernelspec": {
   "display_name": "env",
   "language": "python",
   "name": "python3"
  },
  "language_info": {
   "codemirror_mode": {
    "name": "ipython",
    "version": 3
   },
   "file_extension": ".py",
   "mimetype": "text/x-python",
   "name": "python",
   "nbconvert_exporter": "python",
   "pygments_lexer": "ipython3",
   "version": "3.9.12"
  },
  "orig_nbformat": 4
 },
 "nbformat": 4,
 "nbformat_minor": 2
}
