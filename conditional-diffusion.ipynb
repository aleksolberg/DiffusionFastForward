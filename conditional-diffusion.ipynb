{
 "cells": [
  {
   "cell_type": "code",
   "execution_count": null,
   "metadata": {
    "execution": {
     "iopub.execute_input": "2023-05-08T08:04:13.812361Z",
     "iopub.status.busy": "2023-05-08T08:04:13.811987Z",
     "iopub.status.idle": "2023-05-08T08:04:27.285589Z",
     "shell.execute_reply": "2023-05-08T08:04:27.284417Z",
     "shell.execute_reply.started": "2023-05-08T08:04:13.812334Z"
    }
   },
   "outputs": [],
   "source": [
    "%%capture\n",
    "%pip install einops pytorch_lightning diffusers==0.12.1 kornia librosa accelerate torchvision pandas==1.5.2"
   ]
  },
  {
   "cell_type": "code",
   "execution_count": null,
   "metadata": {
    "execution": {
     "iopub.execute_input": "2023-05-08T08:04:33.333781Z",
     "iopub.status.busy": "2023-05-08T08:04:33.332799Z",
     "iopub.status.idle": "2023-05-08T08:04:38.552490Z",
     "shell.execute_reply": "2023-05-08T08:04:38.551561Z",
     "shell.execute_reply.started": "2023-05-08T08:04:33.333748Z"
    }
   },
   "outputs": [],
   "source": [
    "import torch\n",
    "import pytorch_lightning as pl\n",
    "\n",
    "import numpy as np\n",
    "import matplotlib as mpl\n",
    "import matplotlib.pyplot as plt\n",
    "\n",
    "from src import *\n",
    "\n",
    "mpl.rcParams['figure.figsize'] = (8, 8)\n",
    "device = torch.device(\"cuda:0\" if torch.cuda.is_available() else \"cpu\")"
   ]
  },
  {
   "attachments": {},
   "cell_type": "markdown",
   "metadata": {},
   "source": [
    "### Creating datasets\n"
   ]
  },
  {
   "cell_type": "code",
   "execution_count": null,
   "metadata": {
    "execution": {
     "iopub.execute_input": "2023-05-08T08:04:38.554612Z",
     "iopub.status.busy": "2023-05-08T08:04:38.554130Z",
     "iopub.status.idle": "2023-05-08T08:04:47.632627Z",
     "shell.execute_reply": "2023-05-08T08:04:47.630983Z",
     "shell.execute_reply.started": "2023-05-08T08:04:38.554585Z"
    }
   },
   "outputs": [],
   "source": [
    "from dataset import SpectrogramDataset\n",
    "\n",
    "train_ds=SpectrogramDataset(target_dir='datasets/randomMIDI/PianoViolin11025/WAV/train/ins3',\n",
    "                            condition_dir='datasets/randomMIDI/PianoViolin11025/WAV/train/mix',\n",
    "                            return_pair=True,\n",
    "                            out_channels=1\n",
    "                     )\n",
    "\n",
    "\n",
    "valid_ds=SpectrogramDataset(target_dir='datasets/randomMIDI/PianoViolin11025/WAV/val/ins3',\n",
    "                          condition_dir='datasets/randomMIDI/PianoViolin11025/WAV/val/mix',\n",
    "                          return_pair=True,\n",
    "                          out_channels=1\n",
    "                     )\n",
    "\n",
    "test_ds=SpectrogramDataset(target_dir='datasets/randomMIDI/PianoViolin11025/WAV/test/ins3',\n",
    "                           condition_dir='datasets/randomMIDI/PianoViolin11025/WAV/test/mix',\n",
    "                           return_pair=True,\n",
    "                           out_channels=1\n",
    "                     )\n",
    "\n",
    "img1,img2=train_ds[0]\n",
    "print(img1.shape)\n",
    "\n",
    "plt.subplot(1,2,1)\n",
    "plt.imshow(img1.permute(1,2,0))\n",
    "plt.subplot(1,2,2)\n",
    "plt.imshow(img2.permute(1,2,0))"
   ]
  },
  {
   "attachments": {},
   "cell_type": "markdown",
   "metadata": {},
   "source": [
    "### Model setup"
   ]
  },
  {
   "cell_type": "code",
   "execution_count": null,
   "metadata": {
    "execution": {
     "iopub.execute_input": "2023-05-08T08:04:47.635195Z",
     "iopub.status.busy": "2023-05-08T08:04:47.634471Z",
     "iopub.status.idle": "2023-05-08T08:04:48.233670Z",
     "shell.execute_reply": "2023-05-08T08:04:48.232315Z",
     "shell.execute_reply.started": "2023-05-08T08:04:47.635156Z"
    }
   },
   "outputs": [],
   "source": [
    "model=PixelDiffusionConditional(train_ds,\n",
    "                                valid_dataset=valid_ds,\n",
    "                                lr=1e-4,\n",
    "                                batch_size=4,\n",
    "                                warm_up_steps=10000,\n",
    "                                num_timesteps=1000,\n",
    "                                loss_fn=torch.nn.functional.l1_loss)"
   ]
  },
  {
   "attachments": {},
   "cell_type": "markdown",
   "metadata": {},
   "source": [
    "### Training"
   ]
  },
  {
   "cell_type": "code",
   "execution_count": null,
   "metadata": {
    "execution": {
     "iopub.execute_input": "2023-05-08T08:04:48.236578Z",
     "iopub.status.busy": "2023-05-08T08:04:48.235689Z",
     "iopub.status.idle": "2023-05-08T08:04:48.386320Z",
     "shell.execute_reply": "2023-05-08T08:04:48.385589Z",
     "shell.execute_reply.started": "2023-05-08T08:04:48.236550Z"
    }
   },
   "outputs": [],
   "source": [
    "trainer = pl.Trainer(\n",
    "    default_root_dir=\"trained_models/diffusion/L1/\",\n",
    "    max_epochs=3000,\n",
    "    callbacks=[EMA(0.9999)],\n",
    "    accelerator='auto'\n",
    ")"
   ]
  },
  {
   "cell_type": "code",
   "execution_count": null,
   "metadata": {
    "execution": {
     "iopub.execute_input": "2023-05-03T21:09:14.693377Z",
     "iopub.status.busy": "2023-05-03T21:09:14.692620Z",
     "iopub.status.idle": "2023-05-03T21:09:17.346155Z",
     "shell.execute_reply": "2023-05-03T21:09:17.345384Z",
     "shell.execute_reply.started": "2023-05-03T21:09:14.693348Z"
    }
   },
   "outputs": [],
   "source": [
    "trainer.fit(model)"
   ]
  },
  {
   "attachments": {},
   "cell_type": "markdown",
   "metadata": {},
   "source": [
    "### Load checkpoint"
   ]
  },
  {
   "cell_type": "code",
   "execution_count": null,
   "metadata": {
    "execution": {
     "iopub.execute_input": "2023-05-08T08:07:31.817733Z",
     "iopub.status.busy": "2023-05-08T08:07:31.817414Z"
    }
   },
   "outputs": [],
   "source": [
    "trainer.fit(model, ckpt_path='trained_models/diffusion/3_channels_cosine/lightning_logs/version_3/checkpoints/epoch=1104-step=138125.ckpt')"
   ]
  },
  {
   "attachments": {},
   "cell_type": "markdown",
   "metadata": {},
   "source": [
    "### Create Sample"
   ]
  },
  {
   "cell_type": "code",
   "execution_count": null,
   "metadata": {
    "execution": {
     "iopub.execute_input": "2023-05-08T08:05:04.675467Z",
     "iopub.status.busy": "2023-05-08T08:05:04.674759Z",
     "iopub.status.idle": "2023-05-08T08:06:25.685187Z",
     "shell.execute_reply": "2023-05-08T08:06:25.684157Z",
     "shell.execute_reply.started": "2023-05-08T08:05:04.675430Z"
    }
   },
   "outputs": [],
   "source": [
    "song_num = 3\n",
    "condition,target=test_ds[song_num]\n",
    "batch_input=torch.stack(1*[condition],0)\n",
    "\n",
    "out=model(batch_input, verbose=True)"
   ]
  },
  {
   "cell_type": "code",
   "execution_count": null,
   "metadata": {
    "execution": {
     "iopub.execute_input": "2023-05-08T08:06:40.400313Z",
     "iopub.status.busy": "2023-05-08T08:06:40.399899Z",
     "iopub.status.idle": "2023-05-08T08:06:40.695121Z",
     "shell.execute_reply": "2023-05-08T08:06:40.694126Z",
     "shell.execute_reply.started": "2023-05-08T08:06:40.400271Z"
    }
   },
   "outputs": [],
   "source": [
    "plt.subplot(1,2+len(out),1)\n",
    "plt.imshow(condition.permute(1,2,0))\n",
    "plt.title('Input')\n",
    "plt.axis('off')\n",
    "for idx in range(out.shape[0]):\n",
    "    plt.subplot(1,2+len(out),idx+2)\n",
    "    plt.imshow(out[idx].detach().cpu().permute(1,2,0))\n",
    "    plt.axis('off')\n",
    "plt.subplot(1,2+len(out),2+len(out))\n",
    "plt.imshow(target.permute(1,2,0))\n",
    "plt.title('Ground Truth')\n",
    "plt.axis('off')"
   ]
  },
  {
   "cell_type": "code",
   "execution_count": null,
   "metadata": {
    "execution": {
     "iopub.execute_input": "2023-05-04T06:56:21.478522Z",
     "iopub.status.busy": "2023-05-04T06:56:21.477875Z",
     "iopub.status.idle": "2023-05-04T06:56:21.603859Z",
     "shell.execute_reply": "2023-05-04T06:56:21.603122Z",
     "shell.execute_reply.started": "2023-05-04T06:56:21.478482Z"
    }
   },
   "outputs": [],
   "source": [
    "from torchvision.utils import save_image\n",
    "phase = test_ds.get_phase(song_num)\n",
    "\n",
    "name = test_ds.files[song_num]\n",
    "test_ds.save_audio(out[0].detach().cpu(), phase, name = 'produced_' +  name)\n",
    "test_ds.save_audio(target, phase, name = 'target_' + name)\n",
    "test_ds.save_audio(condition, phase, name = 'condition_' + name)\n",
    "save_image(out[0], 'results/produced_' + name.replace('wav','png'))\n",
    "save_image(condition, 'results/condition_' + name.replace('wav','png'))\n",
    "save_image(target, 'results/target_' + name.replace('wav','png'))"
   ]
  }
 ],
 "metadata": {
  "kernelspec": {
   "display_name": "Python 3 (ipykernel)",
   "language": "python",
   "name": "python3"
  },
  "language_info": {
   "codemirror_mode": {
    "name": "ipython",
    "version": 3
   },
   "file_extension": ".py",
   "mimetype": "text/x-python",
   "name": "python",
   "nbconvert_exporter": "python",
   "pygments_lexer": "ipython3",
   "version": "3.9.12"
  }
 },
 "nbformat": 4,
 "nbformat_minor": 4
}
